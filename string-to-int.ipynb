{
 "cells": [
  {
   "cell_type": "code",
   "execution_count": 7,
   "metadata": {},
   "outputs": [
    {
     "name": "stdout",
     "output_type": "stream",
     "text": [
      "-12 ------\n",
      "-12\n"
     ]
    }
   ],
   "source": [
    "import re\n",
    "\n",
    "class Solution:\n",
    "    MIN_INTEGER=pow(-2,31)\n",
    "    MAX_INTEGER=pow(2,31)-1\n",
    "    \n",
    "    def find_data(self, data: str):\n",
    "        pattern = re.compile(r'^([-+]{0,1}[.0-9]+)')\n",
    "        if bool(pattern.search(data)):\n",
    "            return pattern.search(data).groups()[0]\n",
    "            \n",
    "    def converter(self, data: str) -> float:\n",
    "        float_data=float(data)\n",
    "        if float_data < float(self.MIN_INTEGER):\n",
    "            return float(pow(-2,31))\n",
    "        if float_data > float(self.MAX_INTEGER):\n",
    "            return float(pow(2,31))-1\n",
    "        return float_data\n",
    "        \n",
    "    def myAtoi(self, str: str) -> int:\n",
    "        data = self.find_data(str.strip().split(' ')[0])\n",
    "        if data:\n",
    "            return int(self.converter(data))\n",
    "        else:\n",
    "            return 0\n",
    "print(Solution().myAtoi(\" -12w222\"))"
   ]
  },
  {
   "cell_type": "code",
   "execution_count": 5,
   "metadata": {},
   "outputs": [
    {
     "name": "stdout",
     "output_type": "stream",
     "text": [
      "None\n"
     ]
    }
   ],
   "source": [
    "pattern = re.compile(r'^([-+]{0,1}[.0-9]+)')\n",
    "print(pattern.search(\" -12w222\"))"
   ]
  },
  {
   "cell_type": "code",
   "execution_count": null,
   "metadata": {},
   "outputs": [],
   "source": []
  }
 ],
 "metadata": {
  "kernelspec": {
   "display_name": "Python 3",
   "language": "python",
   "name": "python3"
  },
  "language_info": {
   "codemirror_mode": {
    "name": "ipython",
    "version": 3
   },
   "file_extension": ".py",
   "mimetype": "text/x-python",
   "name": "python",
   "nbconvert_exporter": "python",
   "pygments_lexer": "ipython3",
   "version": "3.8.3"
  }
 },
 "nbformat": 4,
 "nbformat_minor": 4
}
