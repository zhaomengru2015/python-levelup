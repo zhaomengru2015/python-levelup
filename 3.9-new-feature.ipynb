{
 "cells": [
  {
   "cell_type": "markdown",
   "metadata": {},
   "source": [
    "## Dictionary Update And Merge Operators"
   ]
  },
  {
   "cell_type": "code",
   "execution_count": 9,
   "metadata": {},
   "outputs": [
    {
     "name": "stdout",
     "output_type": "stream",
     "text": [
      "{'name': 'mengru1', 'age': 31}\n",
      "{'name': 'mengru', 'age': 30}\n",
      "{'name': 'mengru1', 'age': 31}\n",
      "{'name': 'mengru1', 'age': 31}\n",
      "{'name': 'mengru1', 'age': 31}\n"
     ]
    }
   ],
   "source": [
    "a={\"name\": \"mengru\",\"age\": 30}\n",
    "b={\"name\": \"mengru1\", \"age\": 31}\n",
    "print(a | b)\n",
    "print(a)\n",
    "print(b)\n",
    "a |= b\n",
    "print(a)\n",
    "print(b)"
   ]
  },
  {
   "cell_type": "markdown",
   "metadata": {},
   "source": [
    "## Remove string prefix and suffix"
   ]
  },
  {
   "cell_type": "code",
   "execution_count": 13,
   "metadata": {},
   "outputs": [
    {
     "name": "stdout",
     "output_type": "stream",
     "text": [
      "cpdev-build\n",
      "cpdev-build\n",
      "buildkite-training-cpdev-build\n",
      "cpdev-build-buildkite-training\n"
     ]
    }
   ],
   "source": [
    "a=\"buildkite-training-cpdev-build\"\n",
    "b=\"cpdev-build-buildkite-training\"\n",
    "print(a.removeprefix(\"buildkite-training-\"))\n",
    "print(b.removesuffix(\"-buildkite-training\"))\n",
    "print(a)\n",
    "print(b)"
   ]
  },
  {
   "cell_type": "markdown",
   "metadata": {},
   "source": [
    "## Type hinting"
   ]
  },
  {
   "cell_type": "markdown",
   "metadata": {},
   "source": [
    "## Support For IANA timezone In DateTime"
   ]
  },
  {
   "cell_type": "code",
   "execution_count": 15,
   "metadata": {},
   "outputs": [],
   "source": [
    "\n",
    "from zoneinfo import ZoneInfo\n",
    "from datetime import datetime\n",
    "\n",
    "dt = datetime(2000, 1, 25, 1, tzinfo=ZoneInfo(\"America/Los_Angeles\"))"
   ]
  },
  {
   "cell_type": "markdown",
   "metadata": {},
   "source": [
    "## Ability To Cancel Concurrent Futures\n",
    "## AsyncIO and multiprocessing Improvements"
   ]
  },
  {
   "cell_type": "code",
   "execution_count": 16,
   "metadata": {},
   "outputs": [
    {
     "ename": "NameError",
     "evalue": "name 'concurrent' is not defined",
     "output_type": "error",
     "traceback": [
      "\u001b[0;31m---------------------------------------------------------------------------\u001b[0m",
      "\u001b[0;31mNameError\u001b[0m                                 Traceback (most recent call last)",
      "\u001b[0;32m<ipython-input-16-20e6a6b9813b>\u001b[0m in \u001b[0;36m<module>\u001b[0;34m\u001b[0m\n\u001b[0;32m----> 1\u001b[0;31m \u001b[0mconcurrent\u001b[0m\u001b[0;34m.\u001b[0m\u001b[0mfutures\u001b[0m\u001b[0;34m.\u001b[0m\u001b[0mExecutor\u001b[0m\u001b[0;34m.\u001b[0m\u001b[0mshutdown\u001b[0m\u001b[0;34m(\u001b[0m\u001b[0;34m)\u001b[0m\u001b[0;34m\u001b[0m\u001b[0;34m\u001b[0m\u001b[0m\n\u001b[0m",
      "\u001b[0;31mNameError\u001b[0m: name 'concurrent' is not defined"
     ]
    }
   ],
   "source": [
    "concurrent.futures.Executor.shutdown()"
   ]
  },
  {
   "cell_type": "markdown",
   "metadata": {},
   "source": [
    "### Fix replace"
   ]
  },
  {
   "cell_type": "code",
   "execution_count": 19,
   "metadata": {},
   "outputs": [
    {
     "name": "stdout",
     "output_type": "stream",
     "text": [
      "blog\n",
      "blog\n"
     ]
    }
   ],
   "source": [
    "# 在3.9 之前return的是空string\n",
    "print(\"\".replace(\"\", \"blog\", 1))\n",
    "print(\"\".replace(\"\", \"blog\"))"
   ]
  }
 ],
 "metadata": {
  "kernelspec": {
   "display_name": "Python 3",
   "language": "python",
   "name": "python3"
  },
  "language_info": {
   "codemirror_mode": {
    "name": "ipython",
    "version": 3
   },
   "file_extension": ".py",
   "mimetype": "text/x-python",
   "name": "python",
   "nbconvert_exporter": "python",
   "pygments_lexer": "ipython3",
   "version": "3.9.0+"
  }
 },
 "nbformat": 4,
 "nbformat_minor": 4
}
