{
 "cells": [
  {
   "cell_type": "code",
   "execution_count": 4,
   "metadata": {},
   "outputs": [
    {
     "name": "stderr",
     "output_type": "stream",
     "text": [
      "2020-09-22 15:41:52,420 - INFO - Starting application\n",
      "2020-09-22 15:41:52,420 - INFO - Starting application\n",
      "2020-09-22 15:41:52,420 - INFO - Starting application\n"
     ]
    }
   ],
   "source": [
    "import logging\n",
    "\n",
    "log = logging.getLogger(\"application\")\n",
    "\n",
    "sh=logging.StreamHandler()\n",
    "formatter=logging.Formatter(\"%(asctime)s - %(levelname)s - %(message)s\", \"\", \"%\")\n",
    "sh.setFormatter(formatter)\n",
    "log.addHandler(sh)\n",
    "\n",
    "fs=logging.FileHandler('logging.txt')\n",
    "fs.setFormatter(formatter)\n",
    "log.addHandler(fs)\n",
    "log.setLevel(logging.DEBUG)\n",
    "\n",
    "log.info(\"Starting application\")"
   ]
  },
  {
   "cell_type": "code",
   "execution_count": null,
   "metadata": {},
   "outputs": [],
   "source": []
  }
 ],
 "metadata": {
  "kernelspec": {
   "display_name": "Python 3",
   "language": "python",
   "name": "python3"
  },
  "language_info": {
   "codemirror_mode": {
    "name": "ipython",
    "version": 3
   },
   "file_extension": ".py",
   "mimetype": "text/x-python",
   "name": "python",
   "nbconvert_exporter": "python",
   "pygments_lexer": "ipython3",
   "version": "3.8.3"
  }
 },
 "nbformat": 4,
 "nbformat_minor": 4
}
