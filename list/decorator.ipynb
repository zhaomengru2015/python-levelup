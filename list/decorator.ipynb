{
 "cells": [
  {
   "cell_type": "markdown",
   "metadata": {},
   "source": [
    "## Decorators\n",
    "Decorators 以函数作为输入，修改函数的行为，然后返回一个新的函数"
   ]
  },
  {
   "cell_type": "markdown",
   "metadata": {},
   "source": [
    "### python中是如何处理函数的"
   ]
  },
  {
   "cell_type": "code",
   "execution_count": 3,
   "metadata": {},
   "outputs": [],
   "source": [
    "def func():\n",
    "    print('hello from func')"
   ]
  },
  {
   "cell_type": "code",
   "execution_count": 4,
   "metadata": {},
   "outputs": [
    {
     "name": "stdout",
     "output_type": "stream",
     "text": [
      "hello from func\n"
     ]
    }
   ],
   "source": [
    "func()"
   ]
  },
  {
   "cell_type": "code",
   "execution_count": 5,
   "metadata": {},
   "outputs": [],
   "source": [
    "new_func=func"
   ]
  },
  {
   "cell_type": "code",
   "execution_count": 6,
   "metadata": {},
   "outputs": [
    {
     "name": "stdout",
     "output_type": "stream",
     "text": [
      "hello from func\n"
     ]
    }
   ],
   "source": [
    "new_func()"
   ]
  },
  {
   "cell_type": "code",
   "execution_count": 7,
   "metadata": {},
   "outputs": [
    {
     "name": "stdout",
     "output_type": "stream",
     "text": [
      "func\n"
     ]
    }
   ],
   "source": [
    "print(new_func.__name__)"
   ]
  },
  {
   "cell_type": "code",
   "execution_count": 8,
   "metadata": {},
   "outputs": [
    {
     "name": "stdout",
     "output_type": "stream",
     "text": [
      "hello from func\n",
      "hello from func\n"
     ]
    }
   ],
   "source": [
    "def call_func_twice(callback):\n",
    "    callback()\n",
    "    callback()\n",
    "call_func_twice(func)"
   ]
  },
  {
   "cell_type": "markdown",
   "metadata": {},
   "source": [
    "### 装饰器示例"
   ]
  },
  {
   "cell_type": "code",
   "execution_count": 13,
   "metadata": {},
   "outputs": [
    {
     "name": "stdout",
     "output_type": "stream",
     "text": [
      "Before sum\n",
      "5\n",
      "Before sum\n"
     ]
    }
   ],
   "source": [
    "def logging_decorator(func):\n",
    "    def logger_wrapper(*args, **kargs):\n",
    "        print(f\"Before {func.__name__}\")\n",
    "        func(*args,**kargs)\n",
    "        print(f\"After {func.__name__}\")\n",
    "    return logger_wrapper\n",
    "\n",
    "@logging_decorator\n",
    "def sum(x,y):\n",
    "    print(x+y)\n",
    "sum(2,3)"
   ]
  },
  {
   "cell_type": "markdown",
   "metadata": {},
   "source": [
    "### 有参数的装饰器"
   ]
  },
  {
   "cell_type": "code",
   "execution_count": 20,
   "metadata": {},
   "outputs": [
    {
     "name": "stdout",
     "output_type": "stream",
     "text": [
      "Before sum: 10\n",
      "15\n",
      "Before sum: 10\n"
     ]
    }
   ],
   "source": [
    "def logging_decorator(root):\n",
    "    def _logging_decorator(func):\n",
    "        def logger_wrapper(*args, **kargs):\n",
    "            print(f\"Before {func.__name__}: {root}\")\n",
    "            func(root,*args,**kargs)\n",
    "            print(f\"After {func.__name__}: {root}\")\n",
    "        return logger_wrapper\n",
    "    return _logging_decorator\n",
    "\n",
    "@logging_decorator(10)\n",
    "def sum(root,x,y):\n",
    "    print(root+x+y)\n",
    "sum(2,3)"
   ]
  },
  {
   "cell_type": "markdown",
   "metadata": {},
   "source": [
    "### 包装装饰器函数"
   ]
  },
  {
   "cell_type": "code",
   "execution_count": 5,
   "metadata": {},
   "outputs": [
    {
     "name": "stdout",
     "output_type": "stream",
     "text": [
      "Calling calculate_sum_n: 0.00367\n",
      "hi, john!\n",
      "Calling say_hi: 0.00005\n",
      "Function that logs time\n"
     ]
    }
   ],
   "source": [
    "import time\n",
    "def logging_time(func):\n",
    "    \"\"\"Decorator that logs time\"\"\"\n",
    "    def logger(*args, **kargs):\n",
    "        \"\"\"Function that logs time\"\"\"\n",
    "        start=time.time()\n",
    "        func(*args,**kargs)\n",
    "        print(f\"Calling {func.__name__}: {time.time() - start:.5f}\")\n",
    "    return logger\n",
    "\n",
    "@logging_time\n",
    "def calculate_sum_n(n):\n",
    "    return sum(range(n))\n",
    "\n",
    "@logging_time\n",
    "def say_hi(whom,greeting=\"Hello\"):\n",
    "    \"\"\"Greet someone\"\"\"\n",
    "    print(f\"{greeting}, {whom}!\")\n",
    "\n",
    "calculate_sum_n(100000)\n",
    "say_hi(\"john\", greeting=\"hi\")\n",
    "# decoration 默认会修改被装饰函数的metadata，比如doc string，因为decoration说白了就是\n",
    "# say_hello = logging_time(say_hello)\n",
    "print(say_hi.__doc__)"
   ]
  },
  {
   "cell_type": "markdown",
   "metadata": {},
   "source": [
    "### 使用wraps保证被装饰函数元数据的正确性\n",
    "为了避免被包装函数的元数据被污染，可以使用wraps"
   ]
  },
  {
   "cell_type": "code",
   "execution_count": 7,
   "metadata": {},
   "outputs": [
    {
     "name": "stdout",
     "output_type": "stream",
     "text": [
      "Calling calculate_sum_n: 0.00237\n",
      "hi, john!\n",
      "Calling say_hi: 0.00003\n",
      "Greet someone\n"
     ]
    }
   ],
   "source": [
    "import time\n",
    "from functools import wraps\n",
    "\n",
    "def logging_time(func):\n",
    "    \"\"\"Decorator that logs time\"\"\"\n",
    "    @wraps(func)\n",
    "    def logger(*args, **kargs):\n",
    "        \"\"\"Function that logs time\"\"\"\n",
    "        start=time.time()\n",
    "        func(*args,**kargs)\n",
    "        print(f\"Calling {func.__name__}: {time.time() - start:.5f}\")\n",
    "    return logger\n",
    "\n",
    "@logging_time\n",
    "def calculate_sum_n(n):\n",
    "    return sum(range(n))\n",
    "\n",
    "@logging_time\n",
    "def say_hi(whom,greeting=\"Hello\"):\n",
    "    \"\"\"Greet someone\"\"\"\n",
    "    print(f\"{greeting}, {whom}!\")\n",
    "\n",
    "calculate_sum_n(100000)\n",
    "say_hi(\"john\", greeting=\"hi\")\n",
    "print(say_hi.__doc__)"
   ]
  },
  {
   "cell_type": "markdown",
   "metadata": {},
   "source": [
    "### 装饰器如何接受参数\n",
    "为了使装饰器可以接受参数，需要再将被装饰函数包装一层"
   ]
  },
  {
   "cell_type": "code",
   "execution_count": 12,
   "metadata": {},
   "outputs": [
    {
     "name": "stdout",
     "output_type": "stream",
     "text": [
      "Calling calculate_sum_n: 3.04294 ms\n",
      "hi, john!\n",
      "Calling say_hi: 0.00004 s\n"
     ]
    }
   ],
   "source": [
    "import time\n",
    "from functools import wraps\n",
    "\n",
    "def logging_time(unit):\n",
    "    \"\"\"Decorator that logs time\"\"\"\n",
    "    def logger(func):\n",
    "        @wraps(func)\n",
    "        def inner_logger(*args, **kargs):\n",
    "            \"\"\"Function that logs time\"\"\"\n",
    "            start=time.time()\n",
    "            func(*args,**kargs)\n",
    "            scaling = 1000 if unit == \"ms\" else 1\n",
    "            print(f\"Calling {func.__name__}: {(time.time() - start) * scaling:.5f} {unit}\")\n",
    "        return inner_logger\n",
    "    return logger\n",
    "\n",
    "@logging_time(\"ms\")\n",
    "def calculate_sum_n(n):\n",
    "    return sum(range(n))\n",
    "\n",
    "@logging_time(\"s\")\n",
    "def say_hi(whom,greeting=\"Hello\"):\n",
    "    \"\"\"Greet someone\"\"\"\n",
    "    print(f\"{greeting}, {whom}!\")\n",
    "\n",
    "calculate_sum_n(100000)\n",
    "say_hi(\"john\", greeting=\"hi\")"
   ]
  },
  {
   "cell_type": "markdown",
   "metadata": {},
   "source": [
    "### 多个装饰器，顺序很重要"
   ]
  },
  {
   "cell_type": "code",
   "execution_count": 4,
   "metadata": {},
   "outputs": [
    {
     "name": "stdout",
     "output_type": "stream",
     "text": [
      "Hello, John!\n",
      "Hello, John!\n",
      "Calling repeater: 0.00023 s\n",
      "Hello, Jone!\n",
      "Calling say_hello: 0.00003 s\n",
      "Hello, Jone!\n",
      "Calling say_hello: 0.00002 s\n"
     ]
    }
   ],
   "source": [
    "import time\n",
    "from functools import wraps\n",
    "\n",
    "def repeat(func):\n",
    "    \"\"\"Decorator that repeats function call twice\"\"\"\n",
    "    def repeater(*args,**kargs):\n",
    "        func(*args,**kargs)\n",
    "        func(*args,**kargs)\n",
    "    return repeater\n",
    "\n",
    "def logging_time(unit):\n",
    "    \"\"\"Decorator that logs time\"\"\"\n",
    "    def logger(func):\n",
    "        @wraps(func)\n",
    "        def inner_logger(*args, **kargs):\n",
    "            \"\"\"Function that logs time\"\"\"\n",
    "            start=time.time()\n",
    "            func(*args,**kargs)\n",
    "            scaling = 1000 if unit == \"ms\" else 1\n",
    "            print(f\"Calling {func.__name__}: {(time.time() - start) * scaling:.5f} {unit}\")\n",
    "        return inner_logger\n",
    "    return logger\n",
    "\n",
    "\n",
    "\n",
    "@logging_time(\"s\")\n",
    "@repeat\n",
    "def say_hi(whom,greeting=\"Hello\"):\n",
    "    \"\"\"Greet someone\"\"\"\n",
    "    print(f\"{greeting}, {whom}!\")\n",
    "\n",
    "@repeat\n",
    "@logging_time(\"s\")\n",
    "def say_hello(whom,greeting=\"Hello\"):\n",
    "    \"\"\"Greet someone\"\"\"\n",
    "    print(f\"{greeting}, {whom}!\")\n",
    "say_hi(\"John\")\n",
    "say_hello(\"Jone\")"
   ]
  },
  {
   "cell_type": "markdown",
   "metadata": {},
   "source": [
    "### Class Based Decorators"
   ]
  },
  {
   "cell_type": "code",
   "execution_count": 11,
   "metadata": {},
   "outputs": [
    {
     "name": "stdout",
     "output_type": "stream",
     "text": [
      "Before sum\n",
      "2 2 3\n",
      "After sum\n"
     ]
    }
   ],
   "source": [
    "class Logger:\n",
    "    def __init__(self, n):\n",
    "        self.n=n\n",
    "    def __call__(self, func):\n",
    "        def inner_logger(*args, **kargs):\n",
    "            print(f\"Before {func.__name__}\")\n",
    "            func(self.n,*args,**kargs)\n",
    "            print(f\"After {func.__name__}\")\n",
    "        return inner_logger\n",
    "\n",
    "@Logger(2)\n",
    "def sum(*args):\n",
    "    print(*args)\n",
    "sum(2,3)  "
   ]
  }
 ],
 "metadata": {
  "kernelspec": {
   "display_name": "Python 3",
   "language": "python",
   "name": "python3"
  },
  "language_info": {
   "codemirror_mode": {
    "name": "ipython",
    "version": 3
   },
   "file_extension": ".py",
   "mimetype": "text/x-python",
   "name": "python",
   "nbconvert_exporter": "python",
   "pygments_lexer": "ipython3",
   "version": "3.8.3"
  }
 },
 "nbformat": 4,
 "nbformat_minor": 4
}
