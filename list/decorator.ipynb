{
 "cells": [
  {
   "cell_type": "markdown",
   "metadata": {},
   "source": [
    "## Decorators\n",
    "Decorators 以函数作为输入，修改函数的行为，然后返回一个新的函数"
   ]
  },
  {
   "cell_type": "markdown",
   "metadata": {},
   "source": [
    "### python中是如何处理函数的"
   ]
  },
  {
   "cell_type": "code",
   "execution_count": 3,
   "metadata": {},
   "outputs": [],
   "source": [
    "def func():\n",
    "    print('hello from func')"
   ]
  },
  {
   "cell_type": "code",
   "execution_count": 4,
   "metadata": {},
   "outputs": [
    {
     "name": "stdout",
     "output_type": "stream",
     "text": [
      "hello from func\n"
     ]
    }
   ],
   "source": [
    "func()"
   ]
  },
  {
   "cell_type": "code",
   "execution_count": 5,
   "metadata": {},
   "outputs": [],
   "source": [
    "new_func=func"
   ]
  },
  {
   "cell_type": "code",
   "execution_count": 6,
   "metadata": {},
   "outputs": [
    {
     "name": "stdout",
     "output_type": "stream",
     "text": [
      "hello from func\n"
     ]
    }
   ],
   "source": [
    "new_func()"
   ]
  },
  {
   "cell_type": "code",
   "execution_count": 7,
   "metadata": {},
   "outputs": [
    {
     "name": "stdout",
     "output_type": "stream",
     "text": [
      "func\n"
     ]
    }
   ],
   "source": [
    "print(new_func.__name__)"
   ]
  },
  {
   "cell_type": "code",
   "execution_count": 8,
   "metadata": {},
   "outputs": [
    {
     "name": "stdout",
     "output_type": "stream",
     "text": [
      "hello from func\n",
      "hello from func\n"
     ]
    }
   ],
   "source": [
    "def call_func_twice(callback):\n",
    "    callback()\n",
    "    callback()\n",
    "call_func_twice(func)"
   ]
  },
  {
   "cell_type": "code",
   "execution_count": 13,
   "metadata": {},
   "outputs": [
    {
     "name": "stdout",
     "output_type": "stream",
     "text": [
      "Before sum\n",
      "5\n",
      "Before sum\n"
     ]
    }
   ],
   "source": [
    "def logging_decorator(func):\n",
    "    def logger_wrapper(*args, **kargs):\n",
    "        print(f\"Before {func.__name__}\")\n",
    "        func(*args,**kargs)\n",
    "        print(f\"After {func.__name__}\")\n",
    "    return logger_wrapper\n",
    "@logging_decorator\n",
    "def sum(x,y):\n",
    "    print(x+y)\n",
    "sum(2,3)"
   ]
  },
  {
   "cell_type": "markdown",
   "metadata": {},
   "source": [
    "### With params"
   ]
  },
  {
   "cell_type": "code",
   "execution_count": 20,
   "metadata": {},
   "outputs": [
    {
     "name": "stdout",
     "output_type": "stream",
     "text": [
      "Before sum: 10\n",
      "15\n",
      "Before sum: 10\n"
     ]
    }
   ],
   "source": [
    "def logging_decorator(root):\n",
    "    def _logging_decorator(func):\n",
    "        def logger_wrapper(*args, **kargs):\n",
    "            print(f\"Before {func.__name__}: {root}\")\n",
    "            func(root,*args,**kargs)\n",
    "            print(f\"After {func.__name__}: {root}\")\n",
    "        return logger_wrapper\n",
    "    return _logging_decorator\n",
    "\n",
    "@logging_decorator(10)\n",
    "def sum(root,x,y):\n",
    "    print(root+x+y)\n",
    "sum(2,3)"
   ]
  },
  {
   "cell_type": "markdown",
   "metadata": {},
   "source": [
    "### With Class"
   ]
  },
  {
   "cell_type": "code",
   "execution_count": 25,
   "metadata": {},
   "outputs": [
    {
     "name": "stdout",
     "output_type": "stream",
     "text": [
      "Before func\n",
      "5\n",
      "After func\n"
     ]
    }
   ],
   "source": [
    "class Logger:\n",
    "    def __init__(self, func):\n",
    "        self.func=func\n",
    "    def __call__(self, *args,**kargs):\n",
    "        print(f\"Before {func.__name__}\")\n",
    "        print(self.func(*args,**kargs))\n",
    "        print(f\"After {func.__name__}\")\n",
    "\n",
    "@Logger\n",
    "def sum(x,y):\n",
    "    return x+y\n",
    "sum(2,3)   "
   ]
  }
 ],
 "metadata": {
  "kernelspec": {
   "display_name": "Python 3",
   "language": "python",
   "name": "python3"
  },
  "language_info": {
   "codemirror_mode": {
    "name": "ipython",
    "version": 3
   },
   "file_extension": ".py",
   "mimetype": "text/x-python",
   "name": "python",
   "nbconvert_exporter": "python",
   "pygments_lexer": "ipython3",
   "version": "3.8.3"
  }
 },
 "nbformat": 4,
 "nbformat_minor": 4
}
