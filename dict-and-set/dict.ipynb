{
 "cells": [
  {
   "cell_type": "markdown",
   "metadata": {},
   "source": [
    "## 字典推倒\n",
    "### 用setdefault处理找不到的键"
   ]
  },
  {
   "cell_type": "code",
   "execution_count": 34,
   "metadata": {},
   "outputs": [
    {
     "name": "stdout",
     "output_type": "stream",
     "text": [
      "{'name': 'mengru', 'age': 31, 'sex': 'female'}\n",
      "None\n"
     ]
    }
   ],
   "source": [
    "my_dict={\"name\": \"mengru\",\"age\":31}\n",
    "my_dict.update({\"sex\":\"female\"})\n",
    "print(my_dict)\n",
    "my_dict.setdefault(\"profile\",{\"email\":None})\n",
    "print(my_dict['profile']['email'])"
   ]
  },
  {
   "cell_type": "markdown",
   "metadata": {},
   "source": [
    "### 弹性键查询"
   ]
  },
  {
   "cell_type": "code",
   "execution_count": 31,
   "metadata": {},
   "outputs": [
    {
     "name": "stdout",
     "output_type": "stream",
     "text": [
      "defaultdict(<class 'list'>, {})\n",
      "[]\n"
     ]
    }
   ],
   "source": [
    "# defaultdict 也不能嵌套呀\n",
    "import collections\n",
    "my_dict=collections.defaultdict(list)\n",
    "print(my_dict)\n",
    "print(my_dict['profile'])"
   ]
  },
  {
   "cell_type": "markdown",
   "metadata": {},
   "source": [
    "### 字典的变种\n",
    "#### OrderedDict"
   ]
  },
  {
   "cell_type": "code",
   "execution_count": 39,
   "metadata": {},
   "outputs": [
    {
     "name": "stdout",
     "output_type": "stream",
     "text": [
      "OrderedDict([('a', 'A'), ('c', 'C'), ('b', 'B')])\n",
      "OrderedDict([('c', 'C'), ('b', 'B')])\n"
     ]
    }
   ],
   "source": [
    "import collections\n",
    "# ordered collection保证了键的迭代次序\n",
    "d=collections.OrderedDict()\n",
    "d['a']='A'\n",
    "d['c']='C'\n",
    "d['b']='B'\n",
    "print(d)\n",
    "# last=False会使得pop的时候从最先加入的元素删除\n",
    "d.popitem(last=False)\n",
    "print(d)"
   ]
  },
  {
   "cell_type": "markdown",
   "metadata": {},
   "source": [
    "#### ChainMap"
   ]
  },
  {
   "cell_type": "code",
   "execution_count": 60,
   "metadata": {},
   "outputs": [
    {
     "name": "stdout",
     "output_type": "stream",
     "text": [
      "ChainMap({'Type': 'admin', 'codeID': '00001'}, {'name': 'woodname', 'codeID': '00002'})\n",
      "[{'Type': 'admin', 'codeID': '00001'}, {'name': 'woodname', 'codeID': '00002'}]\n",
      "ChainMap({'age': 31}, {'Type': 'admin', 'codeID': '00001'}, {'name': 'woodname', 'codeID': '00002'})\n",
      "ChainMap({'Type': 'admin', 'codeID': '00001'}, {'name': 'woodname', 'codeID': '00002'})\n",
      "ChainMap({'name': 'woodname', 'codeID': '00002'})\n",
      "\n",
      "-------------------\n",
      "('name', 'woodname')\n",
      "('codeID', '00001')\n",
      "('Type', 'admin')\n",
      "('age', 31)\n"
     ]
    }
   ],
   "source": [
    "from collections import ChainMap\n",
    "m1 = {'Type': 'admin', 'codeID': '00001'}\n",
    "m2 = {'name': 'woodname','codeID': '00002'}\n",
    "m=ChainMap(m1,m2)\n",
    "print(m)\n",
    "print(m.maps)\n",
    "m=m.new_child({'age':31})\n",
    "print(m)\n",
    "print(m.parents)\n",
    "print(m.parents.parents)\n",
    "print('\\n-------------------')\n",
    "for i in m.items():\n",
    "    print(i)"
   ]
  },
  {
   "cell_type": "markdown",
   "metadata": {},
   "source": [
    "#### Counter"
   ]
  },
  {
   "cell_type": "code",
   "execution_count": 63,
   "metadata": {},
   "outputs": [
    {
     "data": {
      "text/plain": [
       "Counter({'t': 1,\n",
       "         'o': 1,\n",
       "         'd': 2,\n",
       "         'a': 2,\n",
       "         'y': 2,\n",
       "         ' ': 2,\n",
       "         'i': 1,\n",
       "         's': 1,\n",
       "         'S': 1,\n",
       "         'u': 1,\n",
       "         'n': 1})"
      ]
     },
     "execution_count": 63,
     "metadata": {},
     "output_type": "execute_result"
    }
   ],
   "source": [
    "from collections import Counter\n",
    "m1=\"today is Sunday\"\n",
    "Counter(m1)"
   ]
  },
  {
   "cell_type": "markdown",
   "metadata": {},
   "source": [
    "# 集合"
   ]
  },
  {
   "cell_type": "code",
   "execution_count": 64,
   "metadata": {},
   "outputs": [
    {
     "data": {
      "text/plain": [
       "{'eggs', 'spam'}"
      ]
     },
     "execution_count": 64,
     "metadata": {},
     "output_type": "execute_result"
    }
   ],
   "source": [
    "l=['spam','spam','eggs','spam']\n",
    "set(l)"
   ]
  },
  {
   "cell_type": "code",
   "execution_count": 72,
   "metadata": {},
   "outputs": [
    {
     "data": {
      "text/plain": [
       "{'checker'}"
      ]
     },
     "execution_count": 72,
     "metadata": {},
     "output_type": "execute_result"
    }
   ],
   "source": [
    "a={'spam','checker'}\n",
    "b={'bind','checker'}\n",
    "a & b"
   ]
  },
  {
   "cell_type": "code",
   "execution_count": 69,
   "metadata": {},
   "outputs": [
    {
     "data": {
      "text/plain": [
       "{'bind', 'checker', 'spam'}"
      ]
     },
     "execution_count": 69,
     "metadata": {},
     "output_type": "execute_result"
    }
   ],
   "source": [
    "a | b"
   ]
  },
  {
   "cell_type": "code",
   "execution_count": 70,
   "metadata": {},
   "outputs": [
    {
     "data": {
      "text/plain": [
       "1"
      ]
     },
     "execution_count": 70,
     "metadata": {},
     "output_type": "execute_result"
    }
   ],
   "source": [
    "len(a & b)"
   ]
  },
  {
   "cell_type": "code",
   "execution_count": 71,
   "metadata": {},
   "outputs": [
    {
     "data": {
      "text/plain": [
       "1"
      ]
     },
     "execution_count": 71,
     "metadata": {},
     "output_type": "execute_result"
    }
   ],
   "source": [
    "len(a.intersection(b))"
   ]
  }
 ],
 "metadata": {
  "kernelspec": {
   "display_name": "Python 3",
   "language": "python",
   "name": "python3"
  },
  "language_info": {
   "codemirror_mode": {
    "name": "ipython",
    "version": 3
   },
   "file_extension": ".py",
   "mimetype": "text/x-python",
   "name": "python",
   "nbconvert_exporter": "python",
   "pygments_lexer": "ipython3",
   "version": "3.8.3"
  }
 },
 "nbformat": 4,
 "nbformat_minor": 4
}
